{
  "nbformat": 4,
  "nbformat_minor": 0,
  "metadata": {
    "colab": {
      "provenance": [],
      "authorship_tag": "ABX9TyMhDN0gf+JbP1HBA9RcMm8V",
      "include_colab_link": true
    },
    "kernelspec": {
      "name": "python3",
      "display_name": "Python 3"
    },
    "language_info": {
      "name": "python"
    }
  },
  "cells": [
    {
      "cell_type": "markdown",
      "metadata": {
        "id": "view-in-github",
        "colab_type": "text"
      },
      "source": [
        "<a href=\"https://colab.research.google.com/github/Jasmansyah01/Praktikum_PBOTUGAS2/blob/main/enkapsulasi1.ipynb\" target=\"_parent\"><img src=\"https://colab.research.google.com/assets/colab-badge.svg\" alt=\"Open In Colab\"/></a>"
      ]
    },
    {
      "cell_type": "code",
      "execution_count": 2,
      "metadata": {
        "colab": {
          "base_uri": "https://localhost:8080/"
        },
        "id": "OBCppTR6MGyT",
        "outputId": "15a36474-e716-47f4-dd94-f40a17fc146a"
      },
      "outputs": [
        {
          "output_type": "stream",
          "name": "stdout",
          "text": [
            "1600.0\n",
            "Gaji final = 10000\n"
          ]
        }
      ],
      "source": [
        "# enkapsulasi dengan public access modifier\n",
        "class pegawai:\n",
        "    def __init__(self, nama, salary):\n",
        "        self.nama=nama\n",
        "        self.gaji=salary\n",
        "        self.gaji_final= self.gaji - (0.2 * self.gaji)\n",
        "\n",
        "obj1 = pegawai(\"Jasman\", 2000)\n",
        "print(obj1.gaji_final)\n",
        "\n",
        "obj1.gaji_final = 10000\n",
        "print(f\"Gaji final = {obj1.gaji_final}\")"
      ]
    }
  ]
}